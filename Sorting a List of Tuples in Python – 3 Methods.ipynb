{
 "cells": [
  {
   "cell_type": "markdown",
   "id": "12f13c05-445d-44f6-a41e-4774d23057b9",
   "metadata": {},
   "source": [
    "Write a Python program to get a list, sorted in ascending order by the last element in each tuple, from a given list of non-empty tuples.\r\n",
    "\r\n",
    "Sample list: [(2, 5), (1, 2), (4, 4), (2, 3), (2, 1)]\r\n",
    "\r\n",
    "Expected result: [(2, 1), (1, 2), (2, 3), (4, 4), (2, 5)]"
   ]
  },
  {
   "cell_type": "code",
   "execution_count": 2,
   "id": "03851035-eb55-4135-a54d-4267cba61344",
   "metadata": {},
   "outputs": [
    {
     "name": "stdout",
     "output_type": "stream",
     "text": [
      "[(2, 1), (1, 2), (2, 3), (4, 4), (2, 5)]\n"
     ]
    }
   ],
   "source": [
    "#Method 1: Manual Bubble Sort (Ascending Order)\n",
    "liste_echantillon = [(2, 5), (1, 2), (4, 4), (2, 3), (2, 1)]\n",
    "x = liste_echantillon[0][1]\n",
    "#print(x)\n",
    "for i in range(len(liste_echantillon)) :\n",
    "  #print(liste_echantillon[i][1])\n",
    "  for j in range(i+1, len(liste_echantillon)) :\n",
    "    #print(liste_echantillon[j][1])\n",
    "    if liste_echantillon[i][1] > liste_echantillon[j][1] :\n",
    "      liste_echantillon[i],liste_echantillon[j]= liste_echantillon[j], liste_echantillon[i]\n",
    "print(liste_echantillon)"
   ]
  },
  {
   "cell_type": "code",
   "execution_count": 3,
   "id": "ae9419ca-1b2d-4a02-93e2-1f6f09614ef8",
   "metadata": {},
   "outputs": [
    {
     "name": "stdout",
     "output_type": "stream",
     "text": [
      "[(2, 1), (1, 2), (2, 3), (4, 4), (2, 5)]\n"
     ]
    }
   ],
   "source": [
    "#Method 2: Insertion Sort (Descending then Reversed to Ascending)\n",
    "liste_echantillon = [(2, 5), (1, 2), (4, 4), (2, 3), (2, 1)]\n",
    "liste_a = []\n",
    "for n in range(1,len(liste_echantillon)):\n",
    "  cle = liste_echantillon[n][1]\n",
    "  j = n-1\n",
    "  while j>=0 and liste_echantillon[j][1] < cle:\n",
    "    #print(liste_echantillon[n][1], ' ',liste_echantillon[j][1])\n",
    "    liste_echantillon[n], liste_echantillon[j] = liste_echantillon[j], liste_echantillon[n]\n",
    "    j = j-1\n",
    "liste_secondaire = []\n",
    "for i in range(len(liste_echantillon) - 1, -1, -1) :\n",
    "  liste_secondaire.append(liste_echantillon[i])\n",
    "liste_echantillon = liste_secondaire\n",
    "print(liste_echantillon)"
   ]
  },
  {
   "cell_type": "code",
   "execution_count": 4,
   "id": "50fee419-28b8-4fb0-8be1-4ff8db020473",
   "metadata": {},
   "outputs": [
    {
     "name": "stdout",
     "output_type": "stream",
     "text": [
      "[(2, 1), (1, 2), (2, 3), (4, 4), (2, 5)]\n"
     ]
    }
   ],
   "source": [
    "#Method 2 (Alternative): Insertion Sort with reverse() Directly\n",
    "liste_echantillon = [(2, 5), (1, 2), (4, 4), (2, 3), (2, 1)]\n",
    "liste_a = []\n",
    "for n in range(1,len(liste_echantillon)):\n",
    "  cle = liste_echantillon[n][1]\n",
    "  j = n-1\n",
    "  while j>=0 and liste_echantillon[j][1] < cle:\n",
    "    #print(liste_echantillon[n][1], ' ',liste_echantillon[j][1])\n",
    "    liste_echantillon[n], liste_echantillon[j] = liste_echantillon[j], liste_echantillon[n]\n",
    "    j = j-1\n",
    "liste_echantillon.reverse()\n",
    "print(liste_echantillon)"
   ]
  },
  {
   "cell_type": "code",
   "execution_count": 5,
   "id": "e083d099-8c9f-48c6-9480-bd0458664471",
   "metadata": {},
   "outputs": [
    {
     "data": {
      "text/plain": [
       "[(2, 1), (1, 2), (2, 3), (4, 4), (2, 5)]"
      ]
     },
     "execution_count": 5,
     "metadata": {},
     "output_type": "execute_result"
    }
   ],
   "source": [
    "#Method 3: Using #python script’s Built-in sorted() Function\n",
    "from operator import itemgetter, attrgetter\n",
    "liste_echantillon = [(2, 5), (1, 2), (4, 4), (2, 3), (2, 1)]\n",
    "sorted(liste_echantillon, key=itemgetter(1))"
   ]
  },
  {
   "cell_type": "code",
   "execution_count": null,
   "id": "9aa11a89-5456-4f78-a60b-7c432309080a",
   "metadata": {},
   "outputs": [],
   "source": [
    "#Method 3: Using #python script’s Built-in sorted() Function with Lambda\n",
    "liste_echantillon =[(2, 5), (1, 2), (4, 4), (2, 3), (2, 1)]\n",
    "liste1 = sorted(liste_echantillon,key=lambda x:x[-1])\n",
    "print(liste1)"
   ]
  }
 ],
 "metadata": {
  "kernelspec": {
   "display_name": "Python 3 (ipykernel)",
   "language": "python",
   "name": "python3"
  },
  "language_info": {
   "codemirror_mode": {
    "name": "ipython",
    "version": 3
   },
   "file_extension": ".py",
   "mimetype": "text/x-python",
   "name": "python",
   "nbconvert_exporter": "python",
   "pygments_lexer": "ipython3",
   "version": "3.11.7"
  }
 },
 "nbformat": 4,
 "nbformat_minor": 5
}
